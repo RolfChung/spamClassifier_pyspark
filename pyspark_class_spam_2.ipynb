{
 "cells": [
  {
   "cell_type": "markdown",
   "metadata": {},
   "source": [
    "# Summmary\n",
    "\n",
    "<p>\n",
    "This projects shows how a natural language processing algorithms can be used to determine emails as spam or not spam. This is a type of supervised learning. The data is a text corpus of emails either labeled as spam or not spam. The text in the labeled emails provides the features to classify an email as spam or not spam.\n",
    "</p>\n",
    "\n",
    "<p>\n",
    "Email consists of course of text. The differentiation between spam or not spam is made on basis of the words written in the email text. Not every word of course works as a feature. Some stop words like “is” or “there” maybe given in both emails. Only special kind of words are associated with spam or not spam. The words are the key unit used in the analysis by the algorithm. \n",
    "</p>\n",
    "  \n",
    "<p>\n",
    "Words cannot be parsed in efficient way by computers. The algorithms need numbers for successful parsing. Words are therefore transformed into vectors in higher dimensional spaces. The length and direction of those vectors determines the vectors and the similarities between different vectors supports the assumption of relationships. Before a vector can be created from a word it is necessary to segment the text into words in a process of tokenization. After transformation different kind of feature selection techniques like counting or other statistics to make the association between the label and the word occurrences. The predictions are evaluated and the results interpreted.\n",
    "</p>\n",
    "\n",
    "<p> </p>\n",
    "\n",
    "<p>\n",
    "<img src=\"textmining_process.jpg\" alt=\"Smiley face\" height=\"300\" width=\"400\"> \n",
    "</p>"
   ]
  },
  {
   "cell_type": "markdown",
   "metadata": {},
   "source": [
    "# Import packages"
   ]
  },
  {
   "cell_type": "code",
   "execution_count": 442,
   "metadata": {},
   "outputs": [],
   "source": [
    "# IPython\n",
    "from IPython.display import display, HTML, display_html \n",
    "#usefull to display wide tables\n",
    "\n",
    "# base packages\n",
    "import numpy as np\n",
    "import pandas as pd\n",
    "import math\n",
    "import random\n",
    "import pathlib\n",
    "import inspect\n",
    "from datetime import datetime\n",
    "\n",
    "# sklearn\n",
    "from sklearn import preprocessing\n",
    "from sklearn.metrics import precision_recall_fscore_support\n",
    "from sklearn.metrics import classification_report\n",
    "from sklearn.metrics import confusion_matrix\n",
    "import sklearn.metrics as metrics\n",
    "from sklearn.metrics import precision_recall_curve\n",
    "\n",
    "\n",
    "# pyspark\n",
    "from pyspark.sql import DataFrame\n",
    "from pyspark.rdd import RDD\n",
    "from pyspark.sql.types import StructType, StructField, IntegerType, \\\n",
    "StringType, BooleanType, DateType, FloatType\n",
    "from pyspark.sql.functions import lower, col\n",
    "from pyspark.sql import SparkSession\n",
    "from pyspark.rdd import RDD\n",
    "from pyspark.sql.functions import mean, stddev , col, avg, round\n",
    "from pyspark.sql.types import IntegerType, FloatType\n",
    "from pyspark.sql.functions import *\n",
    "import pyspark.sql.functions as F\n",
    "from pyspark.sql.functions import isnan\n",
    "\n",
    "\n",
    "# machine learning in spark has got different libraries\n",
    "# for different data objects\n",
    "\n",
    "# machine learning on dataframes\n",
    "# is based on pyspark.ml\n",
    "from pyspark.ml.clustering import KMeans\n",
    "from pyspark.ml.feature import VectorAssembler\n",
    "\n",
    "# machine learning on RDDs\n",
    "# is based pyspark.mllib\n",
    "from pyspark.mllib.classification import LogisticRegressionWithLBFGS\n",
    "from pyspark.mllib.clustering import KMeans\n",
    "from pyspark.mllib.feature import HashingTF\n",
    "from pyspark.mllib.linalg import Vectors\n",
    "from pyspark.mllib.regression import LabeledPoint\n",
    "# pyspark.mllib.classification.SVMModel\n",
    "from pyspark.mllib.classification import SVMModel, SVMWithSGD\n",
    "from pyspark.mllib.evaluation import BinaryClassificationMetrics\n",
    "from pyspark.ml.evaluation import BinaryClassificationEvaluator\n",
    "\n",
    "# Collaborative Filtering - RDD-based API\n",
    "# https://spark.apache.org/docs/latest/mllib-collaborative-filtering.html\n",
    "from pyspark.mllib.recommendation import ALS, MatrixFactorizationModel, Rating\n",
    "\n",
    "# data visualization\n",
    "import matplotlib.pyplot as plt\n",
    "%matplotlib inline\n",
    "import seaborn as sns\n",
    "\n",
    "from pyspark_dist_explore import Histogram, hist, distplot, \\\n",
    "pandas_histogram\n",
    "\n",
    "from handyspark import *"
   ]
  },
  {
   "cell_type": "markdown",
   "metadata": {},
   "source": [
    "# Inspect working directory"
   ]
  },
  {
   "cell_type": "code",
   "execution_count": 443,
   "metadata": {},
   "outputs": [
    {
     "name": "stdout",
     "output_type": "stream",
     "text": [
      "C:\\Users\\gamarandor\\spark\\spark-3.0.0-preview-bin-hadoop2.7\\python\\pyspark\\projects\\pyspark_class_spam\n"
     ]
    }
   ],
   "source": [
    "cwd = os.getcwd()\n",
    "print(cwd)\n",
    "\n",
    "cwd_path = pathlib.Path.cwd()\n",
    "# print(cwd_path)\n",
    "\n",
    "home_path = pathlib.Path.home()\n",
    "# print(home_path)"
   ]
  },
  {
   "cell_type": "markdown",
   "metadata": {},
   "source": [
    "# Spark"
   ]
  },
  {
   "cell_type": "markdown",
   "metadata": {},
   "source": [
    "### Spark context"
   ]
  },
  {
   "cell_type": "code",
   "execution_count": 444,
   "metadata": {},
   "outputs": [
    {
     "name": "stdout",
     "output_type": "stream",
     "text": [
      "Spark version: 3.0.0-preview\n",
      "Python version: 3.7\n",
      "Spark master: local[*]\n",
      "Application name: PySparkShell\n",
      "Parllelism: 4\n"
     ]
    }
   ],
   "source": [
    "print(\"Spark version: {}\".format(sc.version))\n",
    "print(\"Python version: {}\".format(sc.pythonVer))\n",
    "print(\"Spark master: {}\".format(sc.master))\n",
    "# print(\"Spark user: {}\".format(sc.sparkUser))\n",
    "print(\"Application name: {}\".format(sc.appName))\n",
    "# print(\"Application id: {}\".format(sc.applicationId))\n",
    "print(\"Parllelism: {}\".format(sc.defaultParallelism))\n"
   ]
  },
  {
   "cell_type": "markdown",
   "metadata": {},
   "source": [
    "### Spark session\n",
    "\n",
    "<p>\n",
    "<b>Spark Configuration</b><br>\n",
    "from pyspark.sql import SparkSession<br>\n",
    "spark = SparkSession.builder<br>\n",
    ".appName(\"Python Spark regression example\")<br>\n",
    ".config(\"config.option\", \"value\").getOrCreate()<br>\n",
    "</p> "
   ]
  },
  {
   "cell_type": "markdown",
   "metadata": {},
   "source": [
    "### Spark session"
   ]
  },
  {
   "cell_type": "code",
   "execution_count": 445,
   "metadata": {},
   "outputs": [
    {
     "name": "stdout",
     "output_type": "stream",
     "text": [
      "<pyspark.sql.session.SparkSession object at 0x00000186541FD9C8>\n",
      "default\n",
      "[]\n"
     ]
    }
   ],
   "source": [
    "# this is for example needed to activate the SQL-api\n",
    "spark_session = SparkSession.builder.appName(\"spam_classification\").\\\n",
    "getOrCreate()\n",
    "print(spark_session)\n",
    "print(spark_session.catalog.currentDatabase())\n",
    "print(spark_session.catalog.listTables())"
   ]
  },
  {
   "cell_type": "markdown",
   "metadata": {},
   "source": [
    "# Import data"
   ]
  },
  {
   "cell_type": "markdown",
   "metadata": {},
   "source": [
    "## Stop words"
   ]
  },
  {
   "cell_type": "code",
   "execution_count": 446,
   "metadata": {},
   "outputs": [
    {
     "name": "stdout",
     "output_type": "stream",
     "text": [
      "<class 'pandas.core.frame.DataFrame'>\n",
      "(1297, 1)\n",
      "<class 'list'>\n",
      "1297\n"
     ]
    }
   ],
   "source": [
    "stopwords_pd = pd.read_table(r\"english.txt\")\n",
    "print(type(stopwords_pd))\n",
    "print(stopwords_pd.shape)\n",
    "\n",
    "# to pd.Series\n",
    "stop_pd_series = pd.Series(stopwords_pd.iloc[:,0])\n",
    "\n",
    "stop_list = stop_pd_series.tolist()\n",
    "print(type(stop_list))\n",
    "print(len(stop_list))"
   ]
  },
  {
   "cell_type": "markdown",
   "metadata": {},
   "source": [
    "## Spam data"
   ]
  },
  {
   "cell_type": "code",
   "execution_count": 447,
   "metadata": {},
   "outputs": [],
   "source": [
    "spam = sc.textFile(\"spam.txt\")"
   ]
  },
  {
   "cell_type": "markdown",
   "metadata": {},
   "source": [
    "Filtering stopwords out."
   ]
  },
  {
   "cell_type": "code",
   "execution_count": 448,
   "metadata": {},
   "outputs": [],
   "source": [
    "spam = spam.filter(lambda x: x not in stop_list)"
   ]
  },
  {
   "cell_type": "markdown",
   "metadata": {},
   "source": [
    "### Explore data"
   ]
  },
  {
   "cell_type": "code",
   "execution_count": 449,
   "metadata": {},
   "outputs": [
    {
     "name": "stdout",
     "output_type": "stream",
     "text": [
      "<class 'pyspark.rdd.PipelinedRDD'>\n"
     ]
    }
   ],
   "source": [
    "print(type(spam))"
   ]
  },
  {
   "cell_type": "code",
   "execution_count": 450,
   "metadata": {},
   "outputs": [
    {
     "name": "stdout",
     "output_type": "stream",
     "text": [
      "747\n"
     ]
    }
   ],
   "source": [
    "print(spam.count())"
   ]
  },
  {
   "cell_type": "code",
   "execution_count": 451,
   "metadata": {},
   "outputs": [
    {
     "name": "stdout",
     "output_type": "stream",
     "text": [
      "You have 1 new message. Please call 08712400200.\n"
     ]
    }
   ],
   "source": [
    "print(spam.first())"
   ]
  },
  {
   "cell_type": "code",
   "execution_count": 452,
   "metadata": {},
   "outputs": [
    {
     "name": "stdout",
     "output_type": "stream",
     "text": [
      "['You have 1 new message. Please call 08712400200.', 'Urgent! Please call 09061743811 from landline. Your ABTA complimentary 4* Tenerife Holiday or Â£5000 cash await collection SAE T&Cs Box 326 CW25WX 150ppm', \"Dear 0776xxxxxxx U've been invited to XCHAT. This is our final attempt to contact u! Txt CHAT to 86688 150p/MsgrcvdHG/Suite342/2Lands/Row/W1J6HL LDN 18yrs \"]\n"
     ]
    }
   ],
   "source": [
    "print(spam.take(3))"
   ]
  },
  {
   "cell_type": "markdown",
   "metadata": {},
   "source": [
    "## Tokenization\n",
    "\n",
    "<p>is the first step in feature generation. A common definition of tokenization is made by <a href=\"https://nlp.stanford.edu/IR-book/html/htmledition/tokenization-1.html\" target=\"_blank\">nlp.stanford.edu </a></p> \n",
    "\n",
    "\n",
    "<p>\n",
    "Given a character sequence and a defined document unit, tokenization is the task of chopping it up into pieces, called tokens , perhaps at the same time throwing away certain characters, such as punctuation. Here is an example of tokenization.\n",
    "</p> \n",
    "\n",
    "<p>\n",
    "Instead of using a dedicated tokenizer the lines are into words,\n",
    "while keeping in mind that tokens are not necessarily words in general.\n",
    "</p> \n"
   ]
  },
  {
   "cell_type": "code",
   "execution_count": 453,
   "metadata": {},
   "outputs": [
    {
     "name": "stdout",
     "output_type": "stream",
     "text": [
      "['You', 'have', '1', 'new', 'message.', 'Please', 'call', '08712400200.', 'Urgent!', 'Please', 'call', '09061743811', 'from', 'landline.', 'Your']\n"
     ]
    }
   ],
   "source": [
    "spam_rdd = spam.flatMap(lambda lines: lines.split(\" \"))\n",
    "print(spam_rdd.take(15))"
   ]
  },
  {
   "cell_type": "markdown",
   "metadata": {},
   "source": [
    "Creating key-value-pairs from the RDD."
   ]
  },
  {
   "cell_type": "code",
   "execution_count": 454,
   "metadata": {},
   "outputs": [
    {
     "name": "stdout",
     "output_type": "stream",
     "text": [
      "<class 'pyspark.rdd.PipelinedRDD'>\n",
      "[('You', 1), ('have', 1), ('1', 1)]\n"
     ]
    }
   ],
   "source": [
    "spam_mapped = spam_rdd.map(lambda x: (x,1))\n",
    "print(type(spam_mapped))\n",
    "print(spam_mapped.take(3))\n",
    "    "
   ]
  },
  {
   "cell_type": "code",
   "execution_count": 455,
   "metadata": {},
   "outputs": [
    {
     "name": "stdout",
     "output_type": "stream",
     "text": [
      "<class 'pyspark.rdd.PipelinedRDD'>\n",
      "[('have', <pyspark.resultiterable.ResultIterable object at 0x0000018658972E88>), ('1', <pyspark.resultiterable.ResultIterable object at 0x0000018658972588>)]\n"
     ]
    }
   ],
   "source": [
    "spam_grouped = spam_mapped.groupByKey()\n",
    "print(type(spam_grouped))\n",
    "print(spam_grouped.take(2))"
   ]
  },
  {
   "cell_type": "code",
   "execution_count": 456,
   "metadata": {},
   "outputs": [
    {
     "name": "stdout",
     "output_type": "stream",
     "text": [
      "[('have', [1, 1, 1, 1, 1, 1, 1, 1, 1, 1, 1, 1, 1, 1, 1, 1, 1, 1, 1, 1, 1, 1, 1, 1, 1, 1, 1, 1, 1, 1, 1, 1, 1, 1, 1, 1, 1, 1, 1, 1, 1, 1, 1, 1, 1, 1, 1, 1, 1, 1, 1, 1, 1, 1, 1, 1, 1, 1, 1, 1, 1, 1, 1, 1, 1, 1, 1, 1, 1, 1, 1, 1, 1, 1, 1, 1, 1, 1, 1, 1, 1, 1, 1, 1, 1, 1, 1, 1, 1, 1, 1, 1, 1, 1, 1, 1, 1, 1, 1, 1, 1, 1, 1, 1, 1, 1, 1, 1, 1, 1, 1, 1, 1, 1, 1, 1, 1, 1, 1, 1, 1, 1, 1, 1, 1, 1, 1, 1])]\n"
     ]
    }
   ],
   "source": [
    "print(list((i[0], list(i[1])) for i in spam_grouped.take(5))[:1])"
   ]
  },
  {
   "cell_type": "code",
   "execution_count": 457,
   "metadata": {},
   "outputs": [
    {
     "name": "stdout",
     "output_type": "stream",
     "text": [
      "<class 'pyspark.rdd.PipelinedRDD'>\n",
      "['have', '1', 'new', 'Please', 'call']\n",
      "747 4324\n"
     ]
    }
   ],
   "source": [
    "spam_distinct = spam_rdd.distinct()\n",
    "\n",
    "print(type(spam_distinct))\n",
    "print(spam_distinct.take(5))\n",
    "print(spam.count(), spam_distinct.count())\n",
    "\n",
    "# the count of all observations as lines is 747\n",
    "# the count of unique observations as words is 4324"
   ]
  },
  {
   "cell_type": "code",
   "execution_count": 458,
   "metadata": {},
   "outputs": [
    {
     "name": "stdout",
     "output_type": "stream",
     "text": [
      "<class 'collections.defaultdict'>\n",
      "[('You', 77), ('have', 128), ('1', 30), ('new', 42), ('message.', 5), ('Please', 34), ('call', 185), ('08712400200.', 1), ('Urgent!', 11), ('09061743811', 1)]\n"
     ]
    }
   ],
   "source": [
    "spam_cbv = spam_rdd.countByValue()\n",
    "\n",
    "print(type(spam_cbv))\n",
    "print(list(spam_cbv.items())[:10])"
   ]
  },
  {
   "cell_type": "markdown",
   "metadata": {},
   "source": [
    "<p>\n",
    "Top ten most frequent words with the sorted function.\n",
    "</p> \n",
    "<p>\n",
    "The sorted() function sorts the elements of a given iterable in a specific order (either ascending or descending).\n",
    "</p> \n",
    "<p>\n",
    "The syntax of sorted() is:\n",
    "</p>\n",
    "sorted(iterable, key=None, reverse=False)"
   ]
  },
  {
   "cell_type": "code",
   "execution_count": 459,
   "metadata": {},
   "outputs": [
    {
     "name": "stdout",
     "output_type": "stream",
     "text": [
      "<class 'list'>\n",
      "[('to', 607), ('a', 360), ('your', 187), ('call', 185), ('or', 185), ('the', 178), ('2', 169), ('for', 169), ('you', 164), ('is', 143)]\n"
     ]
    }
   ],
   "source": [
    "spam_words_sorted = \\\n",
    "sorted(spam_cbv.items(), key=lambda x:x[1], reverse=True)\n",
    "\n",
    "print(type(spam_words_sorted))\n",
    "print(spam_words_sorted[:10])\n"
   ]
  },
  {
   "cell_type": "code",
   "execution_count": 460,
   "metadata": {},
   "outputs": [
    {
     "data": {
      "image/png": "[encoded data removed]",
      "text/plain": [
       "<Figure size 720x360 with 1 Axes>"
      ]
     },
     "metadata": {
      "needs_background": "light"
     },
     "output_type": "display_data"
    }
   ],
   "source": [
    "# turn list of tuples into a dict\n",
    "spam_words_ten = dict(spam_words_sorted[:10])\n",
    "\n",
    "plt.figure(figsize=(10,5))\n",
    "plt.bar(range(len(spam_words_ten)), \n",
    "        list(spam_words_ten.values()), align='center', \n",
    "        edgecolor=\"black\", linewidth=4, \n",
    "        color=['yellow', 'blue'])\n",
    "plt.xticks(range(len(spam_words_ten)), \n",
    "           list(spam_words_ten.keys()), rotation=90)\n",
    "plt.title(\"Frequency of top ten words\")\n",
    "\n",
    "plt.show()"
   ]
  },
  {
   "cell_type": "markdown",
   "metadata": {},
   "source": [
    "## Non-spam data"
   ]
  },
  {
   "cell_type": "code",
   "execution_count": 461,
   "metadata": {},
   "outputs": [],
   "source": [
    "nonespam = sc.textFile(\"ham.txt\")"
   ]
  },
  {
   "cell_type": "markdown",
   "metadata": {},
   "source": [
    "Filtering stopwords out."
   ]
  },
  {
   "cell_type": "code",
   "execution_count": 462,
   "metadata": {},
   "outputs": [
    {
     "name": "stdout",
     "output_type": "stream",
     "text": [
      "<class 'pyspark.rdd.PipelinedRDD'>\n",
      "['Rofl. Its true to its name', \"The guy did some bitching but I acted like i'd be interested in buying something else next week and he gave it to us for free\", 'Pity, * was in mood for that. So...any other suggestions?']\n"
     ]
    }
   ],
   "source": [
    "nonespam = nonespam.filter(lambda x: x not in stop_list)\n",
    "\n",
    "print(type(nonespam))\n",
    "print(nonespam.take(3))"
   ]
  },
  {
   "cell_type": "markdown",
   "metadata": {},
   "source": [
    "### Explore data"
   ]
  },
  {
   "cell_type": "code",
   "execution_count": 463,
   "metadata": {},
   "outputs": [
    {
     "name": "stdout",
     "output_type": "stream",
     "text": [
      "<class 'pyspark.rdd.PipelinedRDD'>\n"
     ]
    }
   ],
   "source": [
    "print(type(nonespam))"
   ]
  },
  {
   "cell_type": "code",
   "execution_count": 464,
   "metadata": {},
   "outputs": [
    {
     "name": "stdout",
     "output_type": "stream",
     "text": [
      "4827\n"
     ]
    }
   ],
   "source": [
    "print(nonespam.count())"
   ]
  },
  {
   "cell_type": "code",
   "execution_count": 465,
   "metadata": {},
   "outputs": [
    {
     "name": "stdout",
     "output_type": "stream",
     "text": [
      "Rofl. Its true to its name\n"
     ]
    }
   ],
   "source": [
    "print(nonespam.first())"
   ]
  },
  {
   "cell_type": "code",
   "execution_count": 466,
   "metadata": {},
   "outputs": [
    {
     "name": "stdout",
     "output_type": "stream",
     "text": [
      "['Rofl. Its true to its name', \"The guy did some bitching but I acted like i'd be interested in buying something else next week and he gave it to us for free\", 'Pity, * was in mood for that. So...any other suggestions?']\n"
     ]
    }
   ],
   "source": [
    "print(nonespam.take(3))"
   ]
  },
  {
   "cell_type": "markdown",
   "metadata": {},
   "source": [
    "## Tokenization\n"
   ]
  },
  {
   "cell_type": "code",
   "execution_count": 467,
   "metadata": {},
   "outputs": [
    {
     "name": "stdout",
     "output_type": "stream",
     "text": [
      "['Rofl.', 'Its', 'true', 'to', 'its', 'name', 'The', 'guy', 'did', 'some', 'bitching', 'but', 'I', 'acted', 'like']\n"
     ]
    }
   ],
   "source": [
    "nonespam_rdd = nonespam.flatMap(lambda lines: lines.split(\" \"))\n",
    "print(nonespam_rdd.take(15))"
   ]
  },
  {
   "cell_type": "markdown",
   "metadata": {},
   "source": [
    "Creating key-value-pairs from the RDD."
   ]
  },
  {
   "cell_type": "code",
   "execution_count": 468,
   "metadata": {},
   "outputs": [
    {
     "name": "stdout",
     "output_type": "stream",
     "text": [
      "<class 'pyspark.rdd.PipelinedRDD'>\n",
      "[('Rofl.', 1), ('Its', 1), ('true', 1)]\n"
     ]
    }
   ],
   "source": [
    "nonespam_mapped = nonespam_rdd.map(lambda x: (x,1))\n",
    "print(type(nonespam_mapped))\n",
    "print(nonespam_mapped.take(3))\n",
    "    "
   ]
  },
  {
   "cell_type": "code",
   "execution_count": 469,
   "metadata": {},
   "outputs": [
    {
     "name": "stdout",
     "output_type": "stream",
     "text": [
      "<class 'pyspark.rdd.PipelinedRDD'>\n",
      "[('Rofl.', <pyspark.resultiterable.ResultIterable object at 0x0000018659F09EC8>), ('Its', <pyspark.resultiterable.ResultIterable object at 0x0000018659F09AC8>)]\n"
     ]
    }
   ],
   "source": [
    "nonespam_grouped = nonespam_mapped.groupByKey()\n",
    "print(type(nonespam_grouped))\n",
    "print(nonespam_grouped.take(2))"
   ]
  },
  {
   "cell_type": "code",
   "execution_count": 470,
   "metadata": {},
   "outputs": [
    {
     "name": "stdout",
     "output_type": "stream",
     "text": [
      "[('Rofl.', [1])]\n"
     ]
    }
   ],
   "source": [
    "print(list((i[0], list(i[1])) for i in nonespam_grouped.take(5))[:1])"
   ]
  },
  {
   "cell_type": "code",
   "execution_count": 471,
   "metadata": {},
   "outputs": [
    {
     "name": "stdout",
     "output_type": "stream",
     "text": [
      "<class 'pyspark.rdd.PipelinedRDD'>\n",
      "['Rofl.', 'Its', 'true', 'name', 'The']\n",
      "4827 12623\n"
     ]
    }
   ],
   "source": [
    "nonespam_distinct = nonespam_rdd.distinct()\n",
    "\n",
    "print(type(nonespam_distinct))\n",
    "print(nonespam_distinct.take(5))\n",
    "print(nonespam.count(), nonespam_distinct.count())\n",
    "\n",
    "# the count of all observations as lines is 747\n",
    "# the count of unique observations as words is 4324"
   ]
  },
  {
   "cell_type": "code",
   "execution_count": 472,
   "metadata": {},
   "outputs": [
    {
     "name": "stdout",
     "output_type": "stream",
     "text": [
      "<class 'collections.defaultdict'>\n",
      "[('Rofl.', 1), ('Its', 68), ('true', 9), ('to', 1538), ('its', 125), ('name', 23), ('The', 73), ('guy', 22), ('did', 60), ('some', 108)]\n"
     ]
    }
   ],
   "source": [
    "nonespam_cbv = nonespam_rdd.countByValue()\n",
    "\n",
    "print(type(nonespam_cbv))\n",
    "print(list(nonespam_cbv.items())[:10])"
   ]
  },
  {
   "cell_type": "code",
   "execution_count": 473,
   "metadata": {},
   "outputs": [
    {
     "name": "stdout",
     "output_type": "stream",
     "text": [
      "<class 'list'>\n",
      "[('to', 1538), ('you', 1462), ('I', 1439), ('the', 1029), ('a', 977), ('i', 742), ('and', 739), ('in', 736), ('u', 651), ('is', 645)]\n"
     ]
    }
   ],
   "source": [
    "nonespam_words_sorted = \\\n",
    "sorted(nonespam_cbv.items(), key=lambda x:x[1], reverse=True)\n",
    "\n",
    "print(type(nonespam_words_sorted))\n",
    "print(nonespam_words_sorted[:10])\n"
   ]
  },
  {
   "cell_type": "code",
   "execution_count": 474,
   "metadata": {},
   "outputs": [
    {
     "data": {
      "image/png": "[encoded data removed]",
      "text/plain": [
       "<Figure size 720x360 with 1 Axes>"
      ]
     },
     "metadata": {
      "needs_background": "light"
     },
     "output_type": "display_data"
    }
   ],
   "source": [
    "# turn list of tuples into a dict\n",
    "nonespam_words_ten = dict(nonespam_words_sorted[:10])\n",
    "\n",
    "plt.figure(figsize=(10,5))\n",
    "plt.bar(range(len(nonespam_words_ten)), \n",
    "        list(nonespam_words_ten.values()), align='center', \n",
    "        edgecolor=\"black\", linewidth=4, \n",
    "        color=['yellow', 'blue'])\n",
    "plt.xticks(range(len(nonespam_words_ten)), \n",
    "           list(nonespam_words_ten.keys()), rotation=90)\n",
    "plt.title(\"Frequency of top ten words\")\n",
    "\n",
    "plt.show()"
   ]
  },
  {
   "cell_type": "markdown",
   "metadata": {},
   "source": [
    "# Machine Learning on text data to build a spam classifier\n"
   ]
  },
  {
   "cell_type": "markdown",
   "metadata": {},
   "source": [
    "## Feature generation\n",
    "\n",
    "<p>\n",
    "The second step of the feature generation beginns here \n",
    "by creating an instance of a term frequency–inverse document frequency \n",
    "(TFIDF). An alternative popular method of vectorization is the \n",
    "\"bag of words\" method. According to\n",
    "<a href=\"https://www.w3schools.com\" target=\"_blank\">Wikipedia</a> \n",
    "a TFIDF,\n",
    "</p> \n",
    "\n",
    "<p>\n",
    "\"is  a numerical statistic that is intended to reflect how important a word is to a document in a collection or corpus. It is often used as a weighting factor in searches of information retrieval, text mining, and user modeling. The tf–idf value increases proportionally to the number of times a word appears in the document and is offset by the number of documents in the corpus that contain the word, which helps to adjust for the fact that some words appear more frequently in general.\"\n",
    "</p>\n",
    "\n",
    "<p>\n",
    "The TFIDF creates 290 text vectors. A vector serves as a feature in the machine learning model. Apache offers a range of methods for <a href=\"https://spark.apache.org/docs/latest/ml-features.html\" target=\"_blank\">extracting, transforming and selecting features</a>.\n",
    "</p> \n",
    "\n",
    "\n"
   ]
  },
  {
   "cell_type": "code",
   "execution_count": 475,
   "metadata": {},
   "outputs": [
    {
     "name": "stdout",
     "output_type": "stream",
     "text": [
      "<pyspark.mllib.feature.HashingTF object at 0x000001865422F548>\n"
     ]
    }
   ],
   "source": [
    "# from pyspark.mllib.feature import HashingTF\n",
    "# keep in mind the difference between the mllib library for RDDs\n",
    "# and ml-library for data frames\n",
    "\n",
    "TFIDF_instance = HashingTF(numFeatures=290)\n",
    "print(TFIDF_instance)"
   ]
  },
  {
   "cell_type": "code",
   "execution_count": 476,
   "metadata": {},
   "outputs": [
    {
     "name": "stdout",
     "output_type": "stream",
     "text": [
      "<class 'pyspark.rdd.PipelinedRDD'>\n",
      "[SparseVector(290, {3: 1.0, 86: 1.0, 202: 1.0, 213: 1.0, 252: 1.0}), SparseVector(290, {23: 1.0, 164: 1.0, 203: 1.0}), SparseVector(290, {23: 1.0, 31: 1.0, 114: 1.0, 173: 1.0})]\n"
     ]
    }
   ],
   "source": [
    "nonspam_vectors = TFIDF_instance.transform(nonespam_rdd)\n",
    "print(type(nonspam_vectors))\n",
    "print(nonspam_vectors.take(3))"
   ]
  },
  {
   "cell_type": "code",
   "execution_count": 477,
   "metadata": {},
   "outputs": [
    {
     "name": "stdout",
     "output_type": "stream",
     "text": [
      "<class 'pyspark.rdd.PipelinedRDD'>\n",
      "[SparseVector(290, {29: 1.0, 31: 1.0, 213: 1.0}), SparseVector(290, {139: 1.0, 173: 1.0, 184: 1.0, 199: 1.0}), SparseVector(290, {72: 1.0})]\n",
      "17893\n"
     ]
    }
   ],
   "source": [
    "spam_vectors = TFIDF_instance.transform(spam_rdd)\n",
    "print(type(spam_vectors))\n",
    "print(spam_vectors.take(3))\n",
    "print(spam_vectors.count())"
   ]
  },
  {
   "cell_type": "markdown",
   "metadata": {},
   "source": [
    "<p>\n",
    "The TFIDF transformation produces sparse vectors. \n",
    "Sparse vector are more efficient than dense vectors containing only nonzero values with indices.\n",
    "The <a href=\"https://spark.apache.org/docs/latest/ml-features.html#tf-idf\" target=\"_blank\">doc</a> \n",
    "explains it this way.\n",
    "</p>\n",
    "\n",
    "<p>\n",
    "The\"below vector means there are 10 elements in the space. \n",
    "This set contains elem 2, elem 3 and elem 5. All non-zero values are treated as binary “1” values.\"\n",
    "The zero values are \"absent\". This makes it sparse.\n",
    "</p>"
   ]
  },
  {
   "cell_type": "code",
   "execution_count": 478,
   "metadata": {},
   "outputs": [
    {
     "data": {
      "text/plain": [
       "SparseVector(10, {2: 1.0, 3: 1.0, 5: 1.0})"
      ]
     },
     "execution_count": 478,
     "metadata": {},
     "output_type": "execute_result"
    }
   ],
   "source": [
    "Vectors.sparse(10, {2:1.0, 3: 1.0, 5: 1.0})"
   ]
  },
  {
   "cell_type": "markdown",
   "metadata": {},
   "source": [
    "#### public class LabeledPoint\n",
    "\n",
    "<p>\n",
    "Taken from the documentations:\n",
    "</p> \n",
    "\n",
    "<p>\n",
    "Class that represents the features and labels of a data point.<br> \n",
    "param: label Label for this data point.<br> \n",
    "param: features List of features for this data point.<br> \n",
    "LabeledPoint(double label, Vector features)\n",
    "</p>\n",
    "\n",
    "<p>\n",
    "A labeled point is a local vector, either dense or sparse, associated with a label/response. In MLlib, labeled points are used in supervised learning algorithms. We use a double to store a label, so we can use labeled points in both regression and classification. For binary classification, a label should be either 0 (negative) or 1 (positive). For multiclass classification, labels should be class indices starting from zero: 0, 1, 2, ....\n",
    "</p>\n",
    "\n",
    "\n",
    "<a href=\"https://spark.apache.org/docs/2.2.0/mllib-data-types.html\" target=\"_blank\">Labeled point</a> \n"
   ]
  },
  {
   "cell_type": "code",
   "execution_count": 479,
   "metadata": {},
   "outputs": [
    {
     "name": "stdout",
     "output_type": "stream",
     "text": [
      "<class 'pyspark.rdd.PipelinedRDD'>\n",
      "[LabeledPoint(1.0, (290,[29,31,213],[1.0,1.0,1.0])), LabeledPoint(1.0, (290,[139,173,184,199],[1.0,1.0,1.0,1.0]))]\n",
      "17893\n"
     ]
    }
   ],
   "source": [
    "spam_labelpoints = \\\n",
    "spam_vectors.map(lambda vector_features:LabeledPoint(1,  vector_features))\n",
    "# LabeledPoint(double label, Vector features)\n",
    "# label = 1\n",
    "\n",
    "print(type(spam_labelpoints))\n",
    "print(spam_labelpoints.take(2))\n",
    "print(spam_labelpoints.count())"
   ]
  },
  {
   "cell_type": "markdown",
   "metadata": {},
   "source": [
    "Every vector of spam_vectors is labeled with a 1."
   ]
  },
  {
   "cell_type": "code",
   "execution_count": 480,
   "metadata": {},
   "outputs": [
    {
     "name": "stdout",
     "output_type": "stream",
     "text": [
      "<class 'pyspark.rdd.PipelinedRDD'>\n",
      "[LabeledPoint(0.0, (290,[3,86,202,213,252],[1.0,1.0,1.0,1.0,1.0])), LabeledPoint(0.0, (290,[23,164,203],[1.0,1.0,1.0]))]\n",
      "69642\n"
     ]
    }
   ],
   "source": [
    "nonspam_labelpoints = \\\n",
    "nonspam_vectors.map(lambda  vector_features: LabeledPoint(0, \n",
    "                                                          vector_features))\n",
    "\n",
    "\n",
    "print(type(nonspam_labelpoints))\n",
    "print(nonspam_labelpoints.take(2))\n",
    "print(nonspam_labelpoints.count())"
   ]
  },
  {
   "cell_type": "markdown",
   "metadata": {},
   "source": [
    "Every vector of nonspam_vectors is labeled with a 0."
   ]
  },
  {
   "cell_type": "markdown",
   "metadata": {},
   "source": [
    "union(other)\n",
    "\n",
    "Return a new DataFrame containing union of rows in this frame and another frame.\n",
    "This is equivalent to UNION ALL in SQL. To do a SQL-style set union (that does deduplication of elements), use this function followed by a distinct.\n",
    "\n",
    "<a href=\"https://spark.apache.org/docs/2.1.0/api/python/pyspark.sql.html\" target=\"_blank\">pyspark.sql module</a> "
   ]
  },
  {
   "cell_type": "code",
   "execution_count": 481,
   "metadata": {},
   "outputs": [
    {
     "name": "stdout",
     "output_type": "stream",
     "text": [
      "<class 'pyspark.rdd.RDD'>\n",
      "87535\n",
      "87535\n",
      "[LabeledPoint(1.0, (290,[29,31,213],[1.0,1.0,1.0])), LabeledPoint(1.0, (290,[139,173,184,199],[1.0,1.0,1.0,1.0]))]\n"
     ]
    }
   ],
   "source": [
    "combined = spam_labelpoints.union(nonspam_labelpoints)\n",
    "\n",
    "print(type(combined))\n",
    "\n",
    "print(combined.count())\n",
    "\n",
    "print(spam_labelpoints.count() + nonspam_labelpoints.count())\n",
    "\n",
    "print(combined.take(2))"
   ]
  },
  {
   "cell_type": "markdown",
   "metadata": {},
   "source": [
    "### Train-test-split"
   ]
  },
  {
   "cell_type": "code",
   "execution_count": 482,
   "metadata": {},
   "outputs": [],
   "source": [
    "training, testing = combined.randomSplit([0.8, 0.2])"
   ]
  },
  {
   "cell_type": "code",
   "execution_count": 483,
   "metadata": {},
   "outputs": [
    {
     "name": "stdout",
     "output_type": "stream",
     "text": [
      "[LabeledPoint(1.0, (290,[29,31,213],[1.0,1.0,1.0])), LabeledPoint(1.0, (290,[139,173,184,199],[1.0,1.0,1.0,1.0])), LabeledPoint(1.0, (290,[72],[1.0]))]\n",
      "70046\n",
      "[LabeledPoint(1.0, (290,[91,139,158,164,173,202],[1.0,1.0,1.0,2.0,2.0,1.0])), LabeledPoint(1.0, (290,[27,86,139,164,173],[1.0,1.0,1.0,1.0,2.0])), LabeledPoint(1.0, (290,[23,63,86,173,176,213,224],[1.0,1.0,2.0,1.0,2.0,2.0,1.0]))]\n",
      "17489\n"
     ]
    }
   ],
   "source": [
    "print(training.take(3))\n",
    "print(training.count())\n",
    "print(testing.take(3))\n",
    "print(testing.count())"
   ]
  },
  {
   "cell_type": "markdown",
   "metadata": {},
   "source": [
    "Extract the labels: spam 1 or not spam 2."
   ]
  },
  {
   "cell_type": "code",
   "execution_count": 484,
   "metadata": {},
   "outputs": [
    {
     "name": "stdout",
     "output_type": "stream",
     "text": [
      "<class 'pyspark.rdd.PipelinedRDD'>\n",
      "[1.0, 1.0, 1.0, 1.0, 1.0, 1.0, 1.0, 1.0, 1.0, 1.0]\n",
      "defaultdict(<class 'int'>, {1.0: 14312, 0.0: 55734})\n"
     ]
    }
   ],
   "source": [
    "labels_1 = training.map(lambda x: x.label)\n",
    "print(type(labels_1))\n",
    "print(labels_1.take(10))\n",
    "print(labels_1.countByValue())"
   ]
  },
  {
   "cell_type": "code",
   "execution_count": 485,
   "metadata": {},
   "outputs": [
    {
     "name": "stdout",
     "output_type": "stream",
     "text": [
      "<class 'pyspark.rdd.PipelinedRDD'>\n",
      "[1.0, 1.0, 1.0, 1.0, 1.0, 1.0, 1.0, 1.0, 1.0, 1.0, 1.0, 1.0, 1.0, 1.0, 1.0, 1.0, 1.0, 1.0, 1.0, 1.0, 1.0, 1.0, 1.0, 1.0, 1.0]\n",
      "defaultdict(<class 'int'>, {1.0: 3581, 0.0: 13908})\n"
     ]
    }
   ],
   "source": [
    "labels_2 = testing.map(lambda x: x.label)\n",
    "print(type(labels_2))\n",
    "print(labels_2.take(25))\n",
    "print(labels_2.countByValue())"
   ]
  },
  {
   "cell_type": "markdown",
   "metadata": {},
   "source": [
    "### Build the LogisticRegressionWithLBFGS model"
   ]
  },
  {
   "cell_type": "code",
   "execution_count": 486,
   "metadata": {},
   "outputs": [],
   "source": [
    "log_model = LogisticRegressionWithLBFGS.train(training)"
   ]
  },
  {
   "cell_type": "markdown",
   "metadata": {},
   "source": [
    "### Make predictions"
   ]
  },
  {
   "cell_type": "code",
   "execution_count": 487,
   "metadata": {},
   "outputs": [
    {
     "name": "stdout",
     "output_type": "stream",
     "text": [
      "<class 'pyspark.rdd.PipelinedRDD'>\n",
      "[0, 0, 0, 1, 0, 0, 0, 0, 0, 1, 0, 1, 0, 0, 0, 1, 0, 0, 1, 0]\n",
      "testing observations defaultdict(<class 'int'>, {1.0: 3581, 0.0: 13908})\n",
      "predicted values defaultdict(<class 'int'>, {0: 16113, 1: 1376})\n",
      "17489\n"
     ]
    }
   ],
   "source": [
    "log_preds = log_model.predict(testing.map(lambda x: x.features))\n",
    "\n",
    "print(type(log_preds))\n",
    "print(log_preds.take(20))\n",
    "print(\"testing observations {}\".format(labels_2.countByValue()))\n",
    "print(\"predicted values {}\".format(log_preds.countByValue()))\n",
    "print(log_preds.count())"
   ]
  },
  {
   "cell_type": "markdown",
   "metadata": {},
   "source": [
    "Binding predictions and observations of the testing data together into\n",
    "one RDD."
   ]
  },
  {
   "cell_type": "code",
   "execution_count": 488,
   "metadata": {},
   "outputs": [
    {
     "name": "stdout",
     "output_type": "stream",
     "text": [
      "<class 'pyspark.rdd.RDD'>\n",
      "[(1.0, 0), (1.0, 0), (1.0, 0), (1.0, 1), (1.0, 0)]\n"
     ]
    }
   ],
   "source": [
    "pred_labs = labels_2.zip(log_preds)\n",
    "print(type(pred_labs))\n",
    "print(pred_labs.take(5))"
   ]
  },
  {
   "cell_type": "markdown",
   "metadata": {},
   "source": [
    "First element first tuple: observation 1 <br>\n",
    "Second element first tuple: prediction 1 <br>\n",
    "First element second tuple: observation 1 <br>\n",
    "Second element second tuple: prediction 0"
   ]
  },
  {
   "cell_type": "markdown",
   "metadata": {},
   "source": [
    "### Evaluation in Pyspark"
   ]
  },
  {
   "cell_type": "markdown",
   "metadata": {},
   "source": [
    "#### Accuracy"
   ]
  },
  {
   "cell_type": "markdown",
   "metadata": {},
   "source": [
    "True or False predictions of observations."
   ]
  },
  {
   "cell_type": "code",
   "execution_count": 489,
   "metadata": {},
   "outputs": [
    {
     "name": "stdout",
     "output_type": "stream",
     "text": [
      "<class 'pyspark.rdd.PipelinedRDD'>\n",
      "[False, False, False, True, False, False, False, False, False, True]\n"
     ]
    }
   ],
   "source": [
    "log_pred_true_false = \\\n",
    "pred_labs.map(lambda x: x[0] == x[1])\n",
    "\n",
    "print(type(log_pred_true_false))\n",
    "print(log_pred_true_false.take(10))"
   ]
  },
  {
   "cell_type": "markdown",
   "metadata": {},
   "source": [
    "Extracting only true predictions by filtering out the false predictions."
   ]
  },
  {
   "cell_type": "code",
   "execution_count": 490,
   "metadata": {},
   "outputs": [
    {
     "name": "stdout",
     "output_type": "stream",
     "text": [
      "<class 'pyspark.rdd.PipelinedRDD'>\n",
      "[(1.0, 1), (1.0, 1), (1.0, 1), (1.0, 1), (1.0, 1), (1.0, 1), (1.0, 1), (1.0, 1), (1.0, 1), (1.0, 1)]\n"
     ]
    }
   ],
   "source": [
    "log_pred_true = \\\n",
    "pred_labs.filter(lambda x: x[0]==x[1])\n",
    "\n",
    "print(type(log_pred_true))\n",
    "print(log_pred_true.take(10))"
   ]
  },
  {
   "cell_type": "markdown",
   "metadata": {},
   "source": [
    "How many predictions were correct?"
   ]
  },
  {
   "cell_type": "code",
   "execution_count": 491,
   "metadata": {},
   "outputs": [
    {
     "name": "stdout",
     "output_type": "stream",
     "text": [
      "<class 'int'>\n",
      "14268\n",
      "17489\n"
     ]
    }
   ],
   "source": [
    "log_acc_count = log_pred_true.count()\n",
    "\n",
    "print(type(log_acc_count))\n",
    "print(log_acc_count)\n",
    "print(testing.count())\n",
    "# 14258 of 17464 were correctly predicted"
   ]
  },
  {
   "cell_type": "markdown",
   "metadata": {},
   "source": [
    "Proportion of correct predictions of all observations of the testing data set is called accuracy."
   ]
  },
  {
   "cell_type": "code",
   "execution_count": 492,
   "metadata": {},
   "outputs": [
    {
     "name": "stdout",
     "output_type": "stream",
     "text": [
      "0.8158270913145406\n"
     ]
    }
   ],
   "source": [
    "log_accuracy = log_acc_count / float(testing.count())\n",
    "print(log_accuracy)"
   ]
  },
  {
   "cell_type": "markdown",
   "metadata": {},
   "source": [
    "Spam emails could be predicted with an accuracy of 81 percent."
   ]
  },
  {
   "cell_type": "markdown",
   "metadata": {},
   "source": [
    "Creating labels and predictions in one step."
   ]
  },
  {
   "cell_type": "code",
   "execution_count": 493,
   "metadata": {},
   "outputs": [
    {
     "name": "stdout",
     "output_type": "stream",
     "text": [
      "<class 'pyspark.rdd.PipelinedRDD'>\n",
      "[(0.0, 1.0), (0.0, 1.0), (0.0, 1.0), (1.0, 1.0), (0.0, 1.0), (0.0, 1.0), (0.0, 1.0), (0.0, 1.0), (0.0, 1.0), (1.0, 1.0)]\n"
     ]
    }
   ],
   "source": [
    "log_pred_labels = \\\n",
    "testing.map(lambda lp: (float(log_model.predict(lp.features)), lp.label)) \n",
    "print(type(log_pred_labels))\n",
    "print(log_pred_labels.take(10))"
   ]
  },
  {
   "cell_type": "markdown",
   "metadata": {},
   "source": [
    "#### BinaryClassificationMetrics"
   ]
  },
  {
   "cell_type": "code",
   "execution_count": 494,
   "metadata": {},
   "outputs": [
    {
     "name": "stdout",
     "output_type": "stream",
     "text": [
      "Area under PR = 0.46942163765196204\n",
      "Area under ROC = 0.6029323265819017\n"
     ]
    }
   ],
   "source": [
    "# from pyspark.mllib.evaluation import BinaryClassificationMetrics\n",
    "log_metrics = BinaryClassificationMetrics(log_pred_labels)\n",
    "\n",
    "# Area under precision-recall curve\n",
    "print(\"Area under PR = %s\" % log_metrics.areaUnderPR)\n",
    "\n",
    "# Area under ROC curve\n",
    "print(\"Area under ROC = %s\" % log_metrics.areaUnderROC)\n"
   ]
  },
  {
   "cell_type": "markdown",
   "metadata": {},
   "source": [
    "### Evaluation in Pandas and SKlearn"
   ]
  },
  {
   "cell_type": "markdown",
   "metadata": {},
   "source": [
    "Converting RDD to data frame"
   ]
  },
  {
   "cell_type": "code",
   "execution_count": 495,
   "metadata": {},
   "outputs": [
    {
     "name": "stdout",
     "output_type": "stream",
     "text": [
      "root\n",
      " |-- _1: double (nullable = true)\n",
      " |-- _2: double (nullable = true)\n",
      "\n",
      "<class 'pyspark.sql.dataframe.DataFrame'>\n",
      "+---+---+\n",
      "| _1| _2|\n",
      "+---+---+\n",
      "|0.0|1.0|\n",
      "|0.0|1.0|\n",
      "|0.0|1.0|\n",
      "|1.0|1.0|\n",
      "|0.0|1.0|\n",
      "+---+---+\n",
      "only showing top 5 rows\n",
      "\n",
      "None\n"
     ]
    }
   ],
   "source": [
    "log_df = sqlContext.createDataFrame(log_pred_labels)\n",
    "\n",
    "log_df.printSchema()\n",
    "print(type(log_df))\n",
    "print(log_df.show(5))"
   ]
  },
  {
   "cell_type": "markdown",
   "metadata": {},
   "source": [
    "Converting pyspark toPandas."
   ]
  },
  {
   "cell_type": "code",
   "execution_count": 496,
   "metadata": {},
   "outputs": [
    {
     "name": "stdout",
     "output_type": "stream",
     "text": [
      "<class 'pandas.core.frame.DataFrame'>\n",
      "RangeIndex: 17489 entries, 0 to 17488\n",
      "Data columns (total 2 columns):\n",
      "_1    17489 non-null float64\n",
      "_2    17489 non-null float64\n",
      "dtypes: float64(2)\n",
      "memory usage: 273.4 KB\n",
      "None\n"
     ]
    },
    {
     "data": {
      "text/html": [
       "<div>\n",
       "<style scoped>\n",
       "    .dataframe tbody tr th:only-of-type {\n",
       "        vertical-align: middle;\n",
       "    }\n",
       "\n",
       "    .dataframe tbody tr th {\n",
       "        vertical-align: top;\n",
       "    }\n",
       "\n",
       "    .dataframe thead th {\n",
       "        text-align: right;\n",
       "    }\n",
       "</style>\n",
       "<table border=\"1\" class=\"dataframe\">\n",
       "  <thead>\n",
       "    <tr style=\"text-align: right;\">\n",
       "      <th></th>\n",
       "      <th>predictions</th>\n",
       "      <th>labels</th>\n",
       "    </tr>\n",
       "  </thead>\n",
       "  <tbody>\n",
       "    <tr>\n",
       "      <td>0</td>\n",
       "      <td>0.0</td>\n",
       "      <td>1.0</td>\n",
       "    </tr>\n",
       "    <tr>\n",
       "      <td>1</td>\n",
       "      <td>0.0</td>\n",
       "      <td>1.0</td>\n",
       "    </tr>\n",
       "    <tr>\n",
       "      <td>2</td>\n",
       "      <td>0.0</td>\n",
       "      <td>1.0</td>\n",
       "    </tr>\n",
       "    <tr>\n",
       "      <td>3</td>\n",
       "      <td>1.0</td>\n",
       "      <td>1.0</td>\n",
       "    </tr>\n",
       "    <tr>\n",
       "      <td>4</td>\n",
       "      <td>0.0</td>\n",
       "      <td>1.0</td>\n",
       "    </tr>\n",
       "  </tbody>\n",
       "</table>\n",
       "</div>"
      ],
      "text/plain": [
       "   predictions  labels\n",
       "0          0.0     1.0\n",
       "1          0.0     1.0\n",
       "2          0.0     1.0\n",
       "3          1.0     1.0\n",
       "4          0.0     1.0"
      ]
     },
     "execution_count": 496,
     "metadata": {},
     "output_type": "execute_result"
    }
   ],
   "source": [
    "log_pd = log_df.toPandas()\n",
    "print(log_pd.info())\n",
    "\n",
    "log_pd.columns = ['predictions', 'labels']\n",
    "log_pd.head()\n"
   ]
  },
  {
   "cell_type": "markdown",
   "metadata": {},
   "source": [
    "Pandas crosstab or confusion matrix"
   ]
  },
  {
   "cell_type": "code",
   "execution_count": 497,
   "metadata": {},
   "outputs": [
    {
     "data": {
      "text/html": [
       "<div>\n",
       "<style scoped>\n",
       "    .dataframe tbody tr th:only-of-type {\n",
       "        vertical-align: middle;\n",
       "    }\n",
       "\n",
       "    .dataframe tbody tr th {\n",
       "        vertical-align: top;\n",
       "    }\n",
       "\n",
       "    .dataframe thead th {\n",
       "        text-align: right;\n",
       "    }\n",
       "</style>\n",
       "<table border=\"1\" class=\"dataframe\">\n",
       "  <thead>\n",
       "    <tr style=\"text-align: right;\">\n",
       "      <th>predictions</th>\n",
       "      <th>0.0</th>\n",
       "      <th>1.0</th>\n",
       "    </tr>\n",
       "    <tr>\n",
       "      <th>labels</th>\n",
       "      <th></th>\n",
       "      <th></th>\n",
       "    </tr>\n",
       "  </thead>\n",
       "  <tbody>\n",
       "    <tr>\n",
       "      <td>0.0</td>\n",
       "      <td>13400</td>\n",
       "      <td>508</td>\n",
       "    </tr>\n",
       "    <tr>\n",
       "      <td>1.0</td>\n",
       "      <td>2713</td>\n",
       "      <td>868</td>\n",
       "    </tr>\n",
       "  </tbody>\n",
       "</table>\n",
       "</div>"
      ],
      "text/plain": [
       "predictions    0.0  1.0\n",
       "labels                 \n",
       "0.0          13400  508\n",
       "1.0           2713  868"
      ]
     },
     "execution_count": 497,
     "metadata": {},
     "output_type": "execute_result"
    }
   ],
   "source": [
    "pd.crosstab(log_pd.labels,\n",
    "            log_pd['predictions'])"
   ]
  },
  {
   "cell_type": "code",
   "execution_count": 498,
   "metadata": {},
   "outputs": [
    {
     "data": {
      "text/plain": [
       "array([[13400,   508],\n",
       "       [ 2713,   868]], dtype=int64)"
      ]
     },
     "execution_count": 498,
     "metadata": {},
     "output_type": "execute_result"
    }
   ],
   "source": [
    "confusion_matrix(log_pd.labels, log_pd['predictions'])"
   ]
  },
  {
   "cell_type": "markdown",
   "metadata": {},
   "source": [
    "#### Classification report"
   ]
  },
  {
   "cell_type": "code",
   "execution_count": 499,
   "metadata": {},
   "outputs": [
    {
     "data": {
      "text/plain": [
       "(0.731220295182714, 0.6029323265819018, 0.6214601295467324, None)"
      ]
     },
     "execution_count": 499,
     "metadata": {},
     "output_type": "execute_result"
    }
   ],
   "source": [
    "precision_recall_fscore_support(log_pd.labels, log_pd['predictions'], \n",
    "                                average='macro')"
   ]
  },
  {
   "cell_type": "code",
   "execution_count": 500,
   "metadata": {},
   "outputs": [
    {
     "name": "stdout",
     "output_type": "stream",
     "text": [
      "              precision    recall  f1-score   support\n",
      "\n",
      "         0.0       0.83      0.96      0.89     13908\n",
      "         1.0       0.63      0.24      0.35      3581\n",
      "\n",
      "    accuracy                           0.82     17489\n",
      "   macro avg       0.73      0.60      0.62     17489\n",
      "weighted avg       0.79      0.82      0.78     17489\n",
      "\n"
     ]
    }
   ],
   "source": [
    "print(classification_report(log_pd.labels, log_pd['predictions']))"
   ]
  },
  {
   "cell_type": "markdown",
   "metadata": {},
   "source": [
    "### Data visualization with Pyplot on the log-model\n",
    "\n",
    "\n",
    "<p>\n",
    "I did try to do the data visualization directly on the RDD with HandySpark, but this did not worked out. It seems that Handspark needs the data to be in the form of a VectorAssembler. Otherwise the function below does not work:\n",
    "</p> \n",
    "<p>\n",
    "bcm = BinaryClassificationMetrics(predictions, scoreCol='probability', labelCol='Survived')\n",
    "</p> \n",
    "\n",
    "\n",
    "<a href=\"https://github.com/dvgodoy/handyspark\" target=\"_blank\">Wikipedia</a> \n",
    "\n",
    "<p>\n",
    "As HandySpark does not worked I resorted to Pandas and Pyplot.\n",
    "</p> \n",
    "\n"
   ]
  },
  {
   "cell_type": "code",
   "execution_count": 501,
   "metadata": {},
   "outputs": [
    {
     "name": "stdout",
     "output_type": "stream",
     "text": [
      "root\n",
      " |-- predictions: float (nullable = true)\n",
      " |-- labels: float (nullable = true)\n",
      "\n",
      "<class 'pyspark.sql.dataframe.DataFrame'>\n",
      "+-----------+------+\n",
      "|predictions|labels|\n",
      "+-----------+------+\n",
      "|        0.0|   1.0|\n",
      "|        0.0|   1.0|\n",
      "|        0.0|   1.0|\n",
      "|        1.0|   1.0|\n",
      "|        0.0|   1.0|\n",
      "+-----------+------+\n",
      "only showing top 5 rows\n",
      "\n",
      "None\n"
     ]
    }
   ],
   "source": [
    "# create Pyspark data frame from RDD\n",
    "log_pd = sqlContext.createDataFrame(log_pred_labels, schema)\n",
    "\n",
    "log_pd.printSchema()\n",
    "print(type(log_pd))\n",
    "print(log_pd.show(5))"
   ]
  },
  {
   "cell_type": "code",
   "execution_count": 502,
   "metadata": {},
   "outputs": [
    {
     "name": "stdout",
     "output_type": "stream",
     "text": [
      "<class 'pandas.core.frame.DataFrame'>\n",
      "RangeIndex: 17489 entries, 0 to 17488\n",
      "Data columns (total 2 columns):\n",
      "predictions    17489 non-null float32\n",
      "labels         17489 non-null float32\n",
      "dtypes: float32(2)\n",
      "memory usage: 136.8 KB\n"
     ]
    }
   ],
   "source": [
    "# convert pyspark data frame to pandas data frame\n",
    "log_pandas = log_pd.toPandas()\n",
    "log_pandas.info()"
   ]
  },
  {
   "cell_type": "code",
   "execution_count": 503,
   "metadata": {},
   "outputs": [
    {
     "name": "stdout",
     "output_type": "stream",
     "text": [
      "thresholds: [2. 1. 0.]\n",
      "fpr - specificity: [0.         0.16837336 1.        ]\n",
      "tpr - sensitivity, recall: [0.         0.63081395 1.        ]\n",
      "roc_auc: 0.7726528913382114\n"
     ]
    }
   ],
   "source": [
    "# import sklearn.metrics as metrics\n",
    "# calculate the fpr and tpr for all thresholds of the classification\n",
    "fpr_log, tpr_log, threshold_log = \\\n",
    "metrics.roc_curve(log_pandas.predictions, \n",
    "                  log_pandas.labels)\n",
    "roc_auc_log = metrics.auc(fpr, tpr)\n",
    "\n",
    "print(\"thresholds: {}\".format(threshold_log))\n",
    "print(\"fpr - specificity: {}\".format(fpr_log))\n",
    "print(\"tpr - sensitivity, recall: {}\".format(tpr_log))\n",
    "print(\"roc_auc: {}\".format(roc_auc_log))"
   ]
  },
  {
   "cell_type": "code",
   "execution_count": 504,
   "metadata": {},
   "outputs": [
    {
     "data": {
      "image/png": "[encoded data removed]",
      "text/plain": [
       "<Figure size 432x288 with 1 Axes>"
      ]
     },
     "metadata": {
      "needs_background": "light"
     },
     "output_type": "display_data"
    }
   ],
   "source": [
    "plt.title('Receiver Operating Characteristic of the logistic model')\n",
    "plt.plot(fpr_log, tpr_log, 'chartreuse', \n",
    "         label = 'AUC = %0.2f' % roc_auc_log,\n",
    "         linewidth=3)\n",
    "plt.legend(loc = 'lower right')\n",
    "plt.plot([0, 1], [0, 1],'b--')\n",
    "plt.xlim([0, 1])\n",
    "plt.ylim([0, 1])\n",
    "plt.ylabel('True Positive Rate - Sensitivity, Recall')\n",
    "plt.xlabel('False Positive Rate - Specificity')\n",
    "plt.show()\n"
   ]
  },
  {
   "cell_type": "code",
   "execution_count": 505,
   "metadata": {},
   "outputs": [
    {
     "name": "stdout",
     "output_type": "stream",
     "text": [
      "precision: [0.07867803 0.24239039 1.        ]\n",
      "recall: [1.         0.63081395 0.        ]\n",
      "thresholds: [0. 1.]\n"
     ]
    }
   ],
   "source": [
    "# from sklearn.metrics import precision_recall_curve\n",
    "# https://scikit-learn.org/stable/modules/generated/sklearn.metrics.precision_recall_curve.html\n",
    "# precision, recall, thresholds = precision_recall_curve(y_true, y_scores)\n",
    "\n",
    "precision_log_sk, recall_log_sk, thresholds_log_sk = \\\n",
    "precision_recall_curve(log_pandas.predictions, log_pandas.labels)\n",
    "\n",
    "print(\"precision: {}\".format(precision_log_sk))\n",
    "print(\"recall: {}\".format(recall_log_sk))\n",
    "print(\"thresholds: {}\".format(thresholds_log_sk))\n"
   ]
  },
  {
   "cell_type": "code",
   "execution_count": 506,
   "metadata": {},
   "outputs": [
    {
     "data": {
      "image/png": "[encoded data removed]",
      "text/plain": [
       "<Figure size 432x288 with 1 Axes>"
      ]
     },
     "metadata": {
      "needs_background": "light"
     },
     "output_type": "display_data"
    }
   ],
   "source": [
    "plt.title(\"Precision-Recall-Curve of the logistic model \")\n",
    "plt.plot([0,1], [0,1], 'g--', linewidth=5)\n",
    "plt.xlabel('True Positive Rate - Sensitivity, Recall')\n",
    "plt.ylabel('Precision - Positive Predictive Value')\n",
    "plt.plot(recall_log_sk, precision_log_sk, color=\"violet\",\n",
    "         linewidth = 3)\n",
    "plt.show()"
   ]
  },
  {
   "cell_type": "markdown",
   "metadata": {},
   "source": [
    "### Build the SVMWithSGD model\n",
    "\n",
    "class pyspark.mllib.classification.SVMModel(weights, intercept)<br>\n",
    "Model for Support Vector Machines (SVMs).<br>\n",
    "Parameters<br>\n",
    "weights – Weights computed for every feature.<br>\n",
    "intercept – Intercept computed for this model.<br>\n",
    "\n",
    "<a href=\"https://spark.apache.org/docs/latest/api/python/pyspark.mllib.html\" target=\"_blank\">\n",
    "pyspark.mllib.classification module</a> "
   ]
  },
  {
   "cell_type": "code",
   "execution_count": 507,
   "metadata": {
    "scrolled": true
   },
   "outputs": [
    {
     "name": "stdout",
     "output_type": "stream",
     "text": [
      "<class 'pyspark.mllib.classification.SVMModel'>\n"
     ]
    }
   ],
   "source": [
    "svm = SVMWithSGD.train(training, iterations=10)\n",
    "print(type(svm))\n"
   ]
  },
  {
   "cell_type": "markdown",
   "metadata": {},
   "source": [
    "### Make predictions"
   ]
  },
  {
   "cell_type": "code",
   "execution_count": 508,
   "metadata": {},
   "outputs": [
    {
     "name": "stdout",
     "output_type": "stream",
     "text": [
      "<class 'pyspark.rdd.PipelinedRDD'>\n",
      "[0, 0, 0, 0, 0, 0, 0, 0, 0, 0, 0, 1, 0, 0, 0]\n",
      "defaultdict(<class 'int'>, {0: 17003, 1: 486})\n"
     ]
    }
   ],
   "source": [
    "svm_preds = svm.predict(testing.map(lambda x: x.features))\n",
    "\n",
    "print(type(svm_preds))\n",
    "print(svm_preds.take(15))\n",
    "print(svm_preds.countByValue())"
   ]
  },
  {
   "cell_type": "markdown",
   "metadata": {},
   "source": [
    "Convert predictions to float."
   ]
  },
  {
   "cell_type": "code",
   "execution_count": 509,
   "metadata": {},
   "outputs": [
    {
     "name": "stdout",
     "output_type": "stream",
     "text": [
      "<class 'pyspark.rdd.PipelinedRDD'>\n",
      "[0.0, 0.0, 0.0, 0.0, 0.0, 0.0, 0.0, 0.0, 0.0, 0.0]\n"
     ]
    }
   ],
   "source": [
    "svm_preds = svm_preds.map(lambda x: float(x))\n",
    "\n",
    "print(type(svm_preds))\n",
    "print(svm_preds.take(10))"
   ]
  },
  {
   "cell_type": "markdown",
   "metadata": {},
   "source": [
    "Making an RDD of labels (first element) and predictions (second element)."
   ]
  },
  {
   "cell_type": "code",
   "execution_count": 510,
   "metadata": {},
   "outputs": [
    {
     "name": "stdout",
     "output_type": "stream",
     "text": [
      "<class 'pyspark.rdd.RDD'>\n",
      "[(1.0, 0.0), (1.0, 0.0), (1.0, 0.0)]\n",
      "defaultdict(<class 'int'>, {(1.0, 0.0): 3247, (1.0, 1.0): 334, (0.0, 0.0): 13756, (0.0, 1.0): 152})\n"
     ]
    }
   ],
   "source": [
    "svmPreds_labelsTest = labels_2.zip(svm_preds)\n",
    "\n",
    "print(type(svmPreds_labelsTest))\n",
    "print(svmPreds_labelsTest.take(3))\n",
    "print(svmPreds_labelsTest.countByValue())"
   ]
  },
  {
   "cell_type": "markdown",
   "metadata": {},
   "source": [
    "Creating labels and predictions in one step."
   ]
  },
  {
   "cell_type": "code",
   "execution_count": 511,
   "metadata": {},
   "outputs": [
    {
     "name": "stdout",
     "output_type": "stream",
     "text": [
      "<class 'pyspark.rdd.PipelinedRDD'>\n",
      "[(0.0, 1.0), (0.0, 1.0), (0.0, 1.0), (0.0, 1.0), (0.0, 1.0), (0.0, 1.0), (0.0, 1.0), (0.0, 1.0), (0.0, 1.0), (0.0, 1.0)]\n"
     ]
    }
   ],
   "source": [
    "predictionAndLabels_svm = \\\n",
    "testing.map(lambda lp: (float(svm.predict(lp.features)), float(lp.label))) \n",
    "print(type(predictionAndLabels))\n",
    "print(predictionAndLabels.take(10))"
   ]
  },
  {
   "cell_type": "markdown",
   "metadata": {},
   "source": [
    "### Evaluation wit Pyspark"
   ]
  },
  {
   "cell_type": "markdown",
   "metadata": {},
   "source": [
    "#### Accuracy"
   ]
  },
  {
   "cell_type": "code",
   "execution_count": 512,
   "metadata": {},
   "outputs": [
    {
     "name": "stdout",
     "output_type": "stream",
     "text": [
      "<class 'pyspark.rdd.PipelinedRDD'>\n",
      "[False, False, False, False, False, False, False, False, False, False]\n"
     ]
    }
   ],
   "source": [
    "svm_true_false = svmPreds_labelsTest.map(lambda x: x[0]==x[1])\n",
    "\n",
    "print(type(svm_true_false))\n",
    "print(svm_true_false.take(10) )\n"
   ]
  },
  {
   "cell_type": "code",
   "execution_count": 513,
   "metadata": {},
   "outputs": [],
   "source": [
    "# only true predictions\n",
    "svm_true = svmPreds_labelsTest.filter(lambda x: x[0]==x[1])"
   ]
  },
  {
   "cell_type": "code",
   "execution_count": 514,
   "metadata": {},
   "outputs": [],
   "source": [
    "svm_true_count = svm_true.count()"
   ]
  },
  {
   "cell_type": "code",
   "execution_count": 515,
   "metadata": {},
   "outputs": [
    {
     "name": "stdout",
     "output_type": "stream",
     "text": [
      "0.8056492652524444\n"
     ]
    }
   ],
   "source": [
    "svm_accuracy = (svm_true_count / testing.count())\n",
    "print(svm_accuracy)"
   ]
  },
  {
   "cell_type": "markdown",
   "metadata": {},
   "source": [
    "The svm model produces a slightly lower accuracy."
   ]
  },
  {
   "cell_type": "markdown",
   "metadata": {},
   "source": [
    "#### BinaryClassificationMetrics"
   ]
  },
  {
   "cell_type": "code",
   "execution_count": 516,
   "metadata": {},
   "outputs": [
    {
     "name": "stdout",
     "output_type": "stream",
     "text": [
      "Area under PR = 0.4685007582706282\n",
      "Area under ROC = 0.5411705372770375\n"
     ]
    }
   ],
   "source": [
    "# from pyspark.mllib.evaluation import BinaryClassificationMetrics\n",
    "binary_metrics = BinaryClassificationMetrics(predictionAndLabels_svm)\n",
    "\n",
    "# Area under precision-recall curve\n",
    "print(\"Area under PR = %s\" % binary_metrics.areaUnderPR)\n",
    "\n",
    "# Area under ROC curve\n",
    "print(\"Area under ROC = %s\" % binary_metrics.areaUnderROC)\n"
   ]
  },
  {
   "cell_type": "markdown",
   "metadata": {},
   "source": [
    "### Evaluation in Pandas and SKlearn"
   ]
  },
  {
   "cell_type": "markdown",
   "metadata": {},
   "source": [
    "Converting RDD to data frame"
   ]
  },
  {
   "cell_type": "code",
   "execution_count": 517,
   "metadata": {},
   "outputs": [],
   "source": [
    "# Determine data types with schema\n",
    "# This avoids conflicts\n",
    "schema_svm = StructType([\n",
    "StructField(\"predictions\", FloatType(), True),\n",
    "StructField(\"labels\", FloatType(), True)])"
   ]
  },
  {
   "cell_type": "code",
   "execution_count": 518,
   "metadata": {},
   "outputs": [
    {
     "name": "stdout",
     "output_type": "stream",
     "text": [
      "root\n",
      " |-- predictions: float (nullable = true)\n",
      " |-- labels: float (nullable = true)\n",
      "\n",
      "<class 'pyspark.sql.dataframe.DataFrame'>\n",
      "+-----------+------+\n",
      "|predictions|labels|\n",
      "+-----------+------+\n",
      "|        0.0|   1.0|\n",
      "|        0.0|   1.0|\n",
      "|        0.0|   1.0|\n",
      "|        0.0|   1.0|\n",
      "|        0.0|   1.0|\n",
      "+-----------+------+\n",
      "only showing top 5 rows\n",
      "\n",
      "None\n"
     ]
    }
   ],
   "source": [
    "svm_df = sqlContext.createDataFrame(predictionAndLabels, schema_svm)\n",
    "\n",
    "svm_df.printSchema()\n",
    "print(type(svm_df))\n",
    "print(svm_df .show(5))"
   ]
  },
  {
   "cell_type": "markdown",
   "metadata": {},
   "source": [
    "Converting pyspark toPandas."
   ]
  },
  {
   "cell_type": "code",
   "execution_count": 519,
   "metadata": {},
   "outputs": [
    {
     "name": "stdout",
     "output_type": "stream",
     "text": [
      "<class 'pandas.core.frame.DataFrame'>\n",
      "RangeIndex: 17623 entries, 0 to 17622\n",
      "Data columns (total 2 columns):\n",
      "predictions    17623 non-null float32\n",
      "labels         17623 non-null float32\n",
      "dtypes: float32(2)\n",
      "memory usage: 137.8 KB\n",
      "None\n"
     ]
    },
    {
     "data": {
      "text/html": [
       "<div>\n",
       "<style scoped>\n",
       "    .dataframe tbody tr th:only-of-type {\n",
       "        vertical-align: middle;\n",
       "    }\n",
       "\n",
       "    .dataframe tbody tr th {\n",
       "        vertical-align: top;\n",
       "    }\n",
       "\n",
       "    .dataframe thead th {\n",
       "        text-align: right;\n",
       "    }\n",
       "</style>\n",
       "<table border=\"1\" class=\"dataframe\">\n",
       "  <thead>\n",
       "    <tr style=\"text-align: right;\">\n",
       "      <th></th>\n",
       "      <th>predictions</th>\n",
       "      <th>labels</th>\n",
       "    </tr>\n",
       "  </thead>\n",
       "  <tbody>\n",
       "    <tr>\n",
       "      <td>0</td>\n",
       "      <td>0.0</td>\n",
       "      <td>1.0</td>\n",
       "    </tr>\n",
       "    <tr>\n",
       "      <td>1</td>\n",
       "      <td>0.0</td>\n",
       "      <td>1.0</td>\n",
       "    </tr>\n",
       "    <tr>\n",
       "      <td>2</td>\n",
       "      <td>0.0</td>\n",
       "      <td>1.0</td>\n",
       "    </tr>\n",
       "    <tr>\n",
       "      <td>3</td>\n",
       "      <td>0.0</td>\n",
       "      <td>1.0</td>\n",
       "    </tr>\n",
       "    <tr>\n",
       "      <td>4</td>\n",
       "      <td>0.0</td>\n",
       "      <td>1.0</td>\n",
       "    </tr>\n",
       "  </tbody>\n",
       "</table>\n",
       "</div>"
      ],
      "text/plain": [
       "   predictions  labels\n",
       "0          0.0     1.0\n",
       "1          0.0     1.0\n",
       "2          0.0     1.0\n",
       "3          0.0     1.0\n",
       "4          0.0     1.0"
      ]
     },
     "execution_count": 519,
     "metadata": {},
     "output_type": "execute_result"
    }
   ],
   "source": [
    "svm_pd = svm_df.toPandas()\n",
    "print(svm_pd.info())\n",
    "\n",
    "svm_pd.columns = ['predictions', 'labels']\n",
    "svm_pd.head()\n"
   ]
  },
  {
   "cell_type": "markdown",
   "metadata": {},
   "source": [
    "Pandas crosstab or confusion matrix"
   ]
  },
  {
   "cell_type": "code",
   "execution_count": 520,
   "metadata": {},
   "outputs": [
    {
     "data": {
      "text/html": [
       "<div>\n",
       "<style scoped>\n",
       "    .dataframe tbody tr th:only-of-type {\n",
       "        vertical-align: middle;\n",
       "    }\n",
       "\n",
       "    .dataframe tbody tr th {\n",
       "        vertical-align: top;\n",
       "    }\n",
       "\n",
       "    .dataframe thead th {\n",
       "        text-align: right;\n",
       "    }\n",
       "</style>\n",
       "<table border=\"1\" class=\"dataframe\">\n",
       "  <thead>\n",
       "    <tr style=\"text-align: right;\">\n",
       "      <th>predictions</th>\n",
       "      <th>0.0</th>\n",
       "      <th>1.0</th>\n",
       "    </tr>\n",
       "    <tr>\n",
       "      <th>labels</th>\n",
       "      <th></th>\n",
       "      <th></th>\n",
       "    </tr>\n",
       "  </thead>\n",
       "  <tbody>\n",
       "    <tr>\n",
       "      <td>0.0</td>\n",
       "      <td>13931</td>\n",
       "      <td>127</td>\n",
       "    </tr>\n",
       "    <tr>\n",
       "      <td>1.0</td>\n",
       "      <td>3229</td>\n",
       "      <td>336</td>\n",
       "    </tr>\n",
       "  </tbody>\n",
       "</table>\n",
       "</div>"
      ],
      "text/plain": [
       "predictions    0.0  1.0\n",
       "labels                 \n",
       "0.0          13931  127\n",
       "1.0           3229  336"
      ]
     },
     "execution_count": 520,
     "metadata": {},
     "output_type": "execute_result"
    }
   ],
   "source": [
    "pd.crosstab(svm_pd.labels,\n",
    "            svm_pd['predictions'])"
   ]
  },
  {
   "cell_type": "code",
   "execution_count": 521,
   "metadata": {},
   "outputs": [
    {
     "data": {
      "text/plain": [
       "array([[13931,   127],\n",
       "       [ 3229,   336]], dtype=int64)"
      ]
     },
     "execution_count": 521,
     "metadata": {},
     "output_type": "execute_result"
    }
   ],
   "source": [
    "confusion_matrix(svm_pd.labels, svm_pd['predictions'])"
   ]
  },
  {
   "cell_type": "code",
   "execution_count": 522,
   "metadata": {},
   "outputs": [
    {
     "name": "stdout",
     "output_type": "stream",
     "text": [
      "precision:  0.7285429141716567\n",
      "recall:  0.10049559471365639\n"
     ]
    }
   ],
   "source": [
    "precision_svm = (365 /  (365 + 136))\n",
    "print(\"precision: \", precision_svm)\n",
    "# correctly determined (true) positives of all determined \n",
    "# as positives (FP, TP)\n",
    "\n",
    "recall_svm = (365 / (365 + 3267))\n",
    "# correctly determined (true) positives of all observed, labeled \n",
    "# positives or (TP, FN)\n",
    "print(\"recall: \", recall_svm)"
   ]
  },
  {
   "cell_type": "markdown",
   "metadata": {},
   "source": [
    "#### Classification report"
   ]
  },
  {
   "cell_type": "code",
   "execution_count": 523,
   "metadata": {},
   "outputs": [
    {
     "data": {
      "text/plain": [
       "(0.7687658903371646, 0.5426078236885578, 0.5296650463222304, None)"
      ]
     },
     "execution_count": 523,
     "metadata": {},
     "output_type": "execute_result"
    }
   ],
   "source": [
    "precision_recall_fscore_support(svm_pd.labels, svm_pd['predictions'], \n",
    "                                average='macro')"
   ]
  },
  {
   "cell_type": "raw",
   "metadata": {},
   "source": [
    "print(classification_report(svm_pd.labels, svm_pd['predictions']))"
   ]
  },
  {
   "cell_type": "markdown",
   "metadata": {},
   "source": [
    "### Data visualization with Pyplot on the svm-model"
   ]
  },
  {
   "cell_type": "code",
   "execution_count": 524,
   "metadata": {},
   "outputs": [
    {
     "name": "stdout",
     "output_type": "stream",
     "text": [
      "root\n",
      " |-- predictions: float (nullable = true)\n",
      " |-- labels: float (nullable = true)\n",
      "\n",
      "<class 'pyspark.sql.dataframe.DataFrame'>\n",
      "+-----------+------+\n",
      "|predictions|labels|\n",
      "+-----------+------+\n",
      "|        0.0|   1.0|\n",
      "|        0.0|   1.0|\n",
      "|        0.0|   1.0|\n",
      "|        0.0|   1.0|\n",
      "|        0.0|   1.0|\n",
      "+-----------+------+\n",
      "only showing top 5 rows\n",
      "\n",
      "None\n"
     ]
    }
   ],
   "source": [
    "# create Pyspark data frame from RDD\n",
    "svm_df = sqlContext.createDataFrame(predictionAndLabels, schema)\n",
    "\n",
    "svm_df.printSchema()\n",
    "print(type(svm_df))\n",
    "print(svm_df.show(5))"
   ]
  },
  {
   "cell_type": "code",
   "execution_count": 525,
   "metadata": {},
   "outputs": [
    {
     "name": "stdout",
     "output_type": "stream",
     "text": [
      "<class 'pandas.core.frame.DataFrame'>\n",
      "RangeIndex: 17623 entries, 0 to 17622\n",
      "Data columns (total 2 columns):\n",
      "predictions    17623 non-null float32\n",
      "labels         17623 non-null float32\n",
      "dtypes: float32(2)\n",
      "memory usage: 137.8 KB\n"
     ]
    }
   ],
   "source": [
    "# convert pyspark data frame to pandas data frame\n",
    "svm_pandas = svm_df.toPandas()\n",
    "svm_pandas.info()"
   ]
  },
  {
   "cell_type": "code",
   "execution_count": 526,
   "metadata": {},
   "outputs": [
    {
     "name": "stdout",
     "output_type": "stream",
     "text": [
      "thresholds: [2. 1. 0.]\n",
      "fpr - specificity: [0.         0.18817016 1.        ]\n",
      "tpr - sensitivity, recall: [0.         0.72570194 1.        ]\n",
      "roc_auc: 0.7687658903371648\n"
     ]
    }
   ],
   "source": [
    "# import sklearn.metrics as metrics\n",
    "# calculate the fpr and tpr for all thresholds of the classification\n",
    "fpr, tpr, threshold = metrics.roc_curve(svm_pandas.predictions, \n",
    "                                        svm_pandas.labels)\n",
    "roc_auc = metrics.auc(fpr, tpr)\n",
    "\n",
    "print(\"thresholds: {}\".format(threshold))\n",
    "print(\"fpr - specificity: {}\".format(fpr))\n",
    "print(\"tpr - sensitivity, recall: {}\".format(tpr))\n",
    "print(\"roc_auc: {}\".format(roc_auc))"
   ]
  },
  {
   "cell_type": "code",
   "execution_count": 527,
   "metadata": {},
   "outputs": [
    {
     "data": {
      "image/png": "[encoded data removed]",
      "text/plain": [
       "<Figure size 432x288 with 1 Axes>"
      ]
     },
     "metadata": {
      "needs_background": "light"
     },
     "output_type": "display_data"
    }
   ],
   "source": [
    "plt.title('Receiver Operating Characteristic of svm model')\n",
    "plt.plot(fpr, tpr, 'r', label = 'AUC = %0.2f' % roc_auc,\n",
    "         linewidth=3)\n",
    "plt.legend(loc = 'lower right')\n",
    "plt.plot([0, 1], [0, 1],'b--')\n",
    "plt.xlim([0, 1])\n",
    "plt.ylim([0, 1])\n",
    "plt.ylabel('True Positive Rate - Sensitivity, Recall')\n",
    "plt.xlabel('False Positive Rate - Specificity')\n",
    "plt.show()\n"
   ]
  },
  {
   "cell_type": "code",
   "execution_count": 528,
   "metadata": {},
   "outputs": [
    {
     "name": "stdout",
     "output_type": "stream",
     "text": [
      "precision: [0.02627248 0.09424965 1.        ]\n",
      "recall: [1.         0.72570194 0.        ]\n",
      "thresholds: [0. 1.]\n"
     ]
    }
   ],
   "source": [
    "# from sklearn.metrics import precision_recall_curve\n",
    "# https://scikit-learn.org/stable/modules/generated/sklearn.metrics.precision_recall_curve.html\n",
    "# precision, recall, thresholds = precision_recall_curve(y_true, y_scores)\n",
    "\n",
    "precision_svm_sk, recall_svm_sk, thresholds_svm_sk = \\\n",
    "precision_recall_curve(svm_pandas.predictions, svm_pandas.labels)\n",
    "\n",
    "print(\"precision: {}\".format(precision_svm_sk))\n",
    "print(\"recall: {}\".format(recall_svm_sk))\n",
    "print(\"thresholds: {}\".format(thresholds_svm_sk))\n"
   ]
  },
  {
   "cell_type": "code",
   "execution_count": 529,
   "metadata": {},
   "outputs": [
    {
     "data": {
      "image/png": "[encoded data removed]",
      "text/plain": [
       "<Figure size 432x288 with 1 Axes>"
      ]
     },
     "metadata": {
      "needs_background": "light"
     },
     "output_type": "display_data"
    }
   ],
   "source": [
    "plt.title(\"Precision-Recall-Curve \")\n",
    "plt.plot([0,1], [0,1], 'g--', linewidth=5)\n",
    "plt.xlabel('True Positive Rate - Sensitivity, Recall')\n",
    "plt.ylabel('Precision - Positive Predictive Value')\n",
    "plt.plot(recall_svm_sk, precision_svm_sk, color=\"violet\",\n",
    "         linewidth = 3)\n",
    "plt.show()"
   ]
  }
 ],
 "metadata": {
  "kernelspec": {
   "display_name": "Python 3",
   "language": "python",
   "name": "python3"
  },
  "language_info": {
   "codemirror_mode": {
    "name": "ipython",
    "version": 3
   },
   "file_extension": ".py",
   "mimetype": "text/x-python",
   "name": "python",
   "nbconvert_exporter": "python",
   "pygments_lexer": "ipython3",
   "version": "3.7.4"
  }
 },
 "nbformat": 4,
 "nbformat_minor": 2
}
